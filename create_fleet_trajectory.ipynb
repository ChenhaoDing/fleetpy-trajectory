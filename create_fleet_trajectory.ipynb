{
 "cells": [
  {
   "cell_type": "code",
   "execution_count": 1,
   "id": "bb98f801",
   "metadata": {},
   "outputs": [],
   "source": [
    "# standard input\n",
    "import pandas as pd\n",
    "import numpy as np\n",
    "import matplotlib.pyplot as plt\n",
    "import os\n",
    "import pyproj"
   ]
  },
  {
   "cell_type": "code",
   "execution_count": 2,
   "id": "63b67107",
   "metadata": {},
   "outputs": [],
   "source": [
    "# import tools\n",
    "from src.OpStatsLoader import OpStatsLoader\n",
    "from src.NetworkRouter import NetworkRouter\n",
    "from src.VehTrajBuilder import VehTrajBuilder\n",
    "from src.TrajDrawer import TrajDrawer"
   ]
  },
  {
   "cell_type": "code",
   "execution_count": 3,
   "id": "41116a14",
   "metadata": {},
   "outputs": [
    {
     "name": "stderr",
     "output_type": "stream",
     "text": [
      "Loaded records for 5 vehicles.\n"
     ]
    }
   ],
   "source": [
    "op_stats_path = os.path.join(\"data\", \"05012025\", \"results\", \"example_ptbroker\", \"2-0_op-stats.csv\")\n",
    "osl = OpStatsLoader(op_stats_path)"
   ]
  },
  {
   "cell_type": "code",
   "execution_count": 4,
   "id": "f656cb18",
   "metadata": {},
   "outputs": [
    {
     "name": "stderr",
     "output_type": "stream",
     "text": [
      "Reading node file: data/05012025/networks/example_network/base/nodes.csv\n",
      "Read 7617 nodes.\n",
      "Reading edge file: data/05012025/networks/example_network/base/edges.csv\n",
      "Read 11366 edges.\n",
      "Building network...\n",
      "Network graph built. Contains 7617 nodes and 11366 edges.\n"
     ]
    }
   ],
   "source": [
    "nw = NetworkRouter('data/05012025/networks/example_network/base')"
   ]
  },
  {
   "cell_type": "code",
   "execution_count": null,
   "id": "3083a025",
   "metadata": {},
   "outputs": [
    {
     "name": "stderr",
     "output_type": "stream",
     "text": [
      "The Vehicle Trajectory has been built.\n",
      "The Vehicle Trajectory has been built.\n",
      "The Vehicle Trajectory has been built.\n",
      "The Vehicle Trajectory has been built.\n",
      "The Vehicle Trajectory has been built.\n",
      "The Fleet Trajectory from 0 to 7200 with a time step of 5 has been built.\n",
      "The Fleet Trajectory contains 5 vehicles.\n"
     ]
    }
   ],
   "source": [
    "vtb = VehTrajBuilder(nw)\n",
    "fleet_trajectory = vtb.build_fleet_trajectory(osl.get_fleet_stats(), start_time=0, end_time=7200, time_step=5)"
   ]
  },
  {
   "cell_type": "code",
   "execution_count": 6,
   "id": "d237cfab",
   "metadata": {},
   "outputs": [],
   "source": [
    "background_image_path = '/Users/dch/Downloads/11.tif'\n",
    "bounding_box = (694395.9211, 698583.1622, 5328907.6887, 5331570.175)\n",
    "# # convert bounding box from EPSG:3857 to EPSG:32632\n",
    "# source_crs = pyproj.CRS(\"EPSG:3857\")\n",
    "# target_crs = pyproj.CRS(\"EPSG:32632\")\n",
    "# transformer = pyproj.Transformer.from_crs(source_crs, target_crs, always_xy=True)\n",
    "\n",
    "# x_coords_in = [bounding_box[0], bounding_box[1]]\n",
    "# y_coords_in = [bounding_box[2], bounding_box[3]]\n",
    "\n",
    "# x_coords_out, y_coords_out = transformer.transform(x_coords_in, y_coords_in)\n",
    "\n",
    "# bounding_box = (x_coords_out[0], x_coords_out[1], y_coords_out[0], y_coords_out[1])\n",
    "# print(bounding_box)"
   ]
  },
  {
   "cell_type": "code",
   "execution_count": 7,
   "id": "68b7434c",
   "metadata": {},
   "outputs": [
    {
     "name": "stderr",
     "output_type": "stream",
     "text": [
      "Read 7617 nodes from data/05012025/networks/example_network/base/nodes.csv.\n",
      "Loaded background image from /Users/dch/Downloads/11.tif\n",
      "Bounding box set to: (694395.9211, 698583.1622, 5328907.6887, 5331570.175)\n"
     ]
    }
   ],
   "source": [
    "nodes_filepath = 'data/05012025/networks/example_network/base/nodes.csv'\n",
    "td = TrajDrawer(nodes_filepath, background_image_path, bounding_box)"
   ]
  },
  {
   "cell_type": "code",
   "execution_count": 8,
   "id": "46b862bd",
   "metadata": {},
   "outputs": [
    {
     "name": "stderr",
     "output_type": "stream",
     "text": [
      "Using default occupancy color map: {0: 'black', 1: 'blue', 2: 'lime', 3: 'orange', 4: 'red'}\n",
      "Preparing animation with speed=1, interval=50ms...\n",
      "Creating animation with 721 frames...\n",
      "Saving animation to ./fleet_animation.gif...\n",
      "Animation saved successfully to ./fleet_animation.gif\n"
     ]
    }
   ],
   "source": [
    "td.draw_trajectory_animation(fleet_trajectory, speed=1, start_time=0, end_time=7200, time_step=10, output_filepath='./fleet_animation.gif', interval_ms=50)"
   ]
  }
 ],
 "metadata": {
  "kernelspec": {
   "display_name": ".venv",
   "language": "python",
   "name": "python3"
  },
  "language_info": {
   "codemirror_mode": {
    "name": "ipython",
    "version": 3
   },
   "file_extension": ".py",
   "mimetype": "text/x-python",
   "name": "python",
   "nbconvert_exporter": "python",
   "pygments_lexer": "ipython3",
   "version": "3.11.10"
  }
 },
 "nbformat": 4,
 "nbformat_minor": 5
}
