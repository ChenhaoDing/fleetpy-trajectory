{
 "cells": [
  {
   "cell_type": "code",
   "execution_count": null,
   "id": "25819391",
   "metadata": {},
   "outputs": [],
   "source": [
    "from shapely.geometry import Point, LineString, MultiLineString\n",
    "import geopandas as gpd"
   ]
  },
  {
   "cell_type": "code",
   "execution_count": null,
   "id": "c21e690a",
   "metadata": {},
   "outputs": [],
   "source": [
    "# load geojson\n",
    "pt_route_filepath = 'data/sum-wp2_3-deliverable/pt/example_network/example_gtfs/example_pt_route.geojson'\n",
    "pt_routes = gpd.read_file(pt_route_filepath)\n",
    "\n",
    "# get line string\n",
    "route: MultiLineString = pt_routes[pt_routes['id'] == 0]['geometry'].values[0]\n"
   ]
  }
 ],
 "metadata": {
  "kernelspec": {
   "display_name": ".venv",
   "language": "python",
   "name": "python3"
  },
  "language_info": {
   "codemirror_mode": {
    "name": "ipython",
    "version": 3
   },
   "file_extension": ".py",
   "mimetype": "text/x-python",
   "name": "python",
   "nbconvert_exporter": "python",
   "pygments_lexer": "ipython3",
   "version": "3.11.11"
  }
 },
 "nbformat": 4,
 "nbformat_minor": 5
}
